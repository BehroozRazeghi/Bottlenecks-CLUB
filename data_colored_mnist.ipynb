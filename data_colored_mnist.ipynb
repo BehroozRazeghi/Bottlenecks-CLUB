{
 "cells": [
  {
   "cell_type": "code",
   "execution_count": 2,
   "metadata": {},
   "outputs": [],
   "source": [
    "from tensorflow.keras.datasets import mnist\n",
    "import matplotlib.pyplot as plt\n",
    "import numpy as np"
   ]
  },
  {
   "cell_type": "code",
   "execution_count": 2,
   "metadata": {
    "tags": []
   },
   "outputs": [
    {
     "name": "stdout",
     "output_type": "stream",
     "text": [
      "(60000, 28, 28)\n",
      "(60000,)\n",
      "(10000, 28, 28)\n",
      "(10000,)\n"
     ]
    }
   ],
   "source": [
    "(X_train, Y_train), (X_test, Y_test) = mnist.load_data()\n",
    "print(X_train.shape)\n",
    "print(Y_train.shape)\n",
    "print(X_test.shape)\n",
    "print(Y_test.shape)"
   ]
  },
  {
   "cell_type": "code",
   "execution_count": 3,
   "metadata": {},
   "outputs": [
    {
     "data": {
      "image/png": "[encoded data removed]",
      "text/plain": [
       "<Figure size 432x288 with 1 Axes>"
      ]
     },
     "metadata": {
      "needs_background": "light"
     },
     "output_type": "display_data"
    }
   ],
   "source": [
    "plt.imshow(X_train[0], cmap=\"gray\")\n",
    "plt.show()"
   ]
  },
  {
   "cell_type": "code",
   "execution_count": 4,
   "metadata": {
    "tags": []
   },
   "outputs": [
    {
     "name": "stdout",
     "output_type": "stream",
     "text": [
      "(60000, 28, 28, 3)\n",
      "(10000, 28, 28, 3)\n"
     ]
    }
   ],
   "source": [
    "# X_train_new = np.repeat(X_train[:, :, :,np.newaxis], 3, axis=3)\n",
    "x_train = np.zeros((X_train.shape[0], X_train.shape[1], X_train.shape[2], 3)).astype(np.uint8)\n",
    "x_test =  np.zeros((X_test.shape[0], X_test.shape[1], X_test.shape[2], 3)).astype(np.uint8)\n",
    "s_train = np.zeros(X_train.shape[0]).astype(np.uint8)\n",
    "s_test = np.zeros(X_test.shape[0]).astype(np.uint8)\n",
    "print(x_train.shape)\n",
    "print(x_test.shape)"
   ]
  },
  {
   "cell_type": "code",
   "execution_count": 5,
   "metadata": {},
   "outputs": [
    {
     "name": "stdout",
     "output_type": "stream",
     "text": [
      "30000 10000 10000\n"
     ]
    }
   ],
   "source": [
    "train_idx = np.random.permutation(60000)\n",
    "n_chan_0 = int(3/6 * 60000)\n",
    "n_chan_1 = int(2/6 * 60000)\n",
    "n_chan_2 = int(1/6 * 60000)\n",
    "print(n_chan_0, n_chan_1, n_chan_2)\n",
    "\n",
    "x_train[train_idx[:n_chan_0], :, :, 0] = X_train[train_idx[:n_chan_0]]\n",
    "x_train[train_idx[n_chan_0:(n_chan_0+n_chan_1)], :, :, 1] = X_train[train_idx[n_chan_0:(n_chan_0+n_chan_1)]]\n",
    "x_train[train_idx[(n_chan_0+n_chan_1):], :, :, 2] = X_train[train_idx[(n_chan_0+n_chan_1):]]\n",
    "\n",
    "s_train[train_idx[0:n_chan_0]] = 0\n",
    "s_train[train_idx[n_chan_0:(n_chan_0+n_chan_1)]] = 1\n",
    "s_train[train_idx[(n_chan_0+n_chan_1):]] = 2\n",
    "\n",
    "\n",
    "test_idx = np.random.permutation(10000)\n",
    "\n",
    "x_test[test_idx[0:3333], :, :, 0] = X_test[test_idx[0:3333], :, :]\n",
    "x_test[test_idx[3333:6666], :, :, 1] = X_test[test_idx[3333:6666], :, :]\n",
    "x_test[test_idx[6666:], :, :, 2] = X_test[test_idx[6666:], :, :]\n",
    "\n",
    "s_test[test_idx[0:3333]] = 0\n",
    "s_test[test_idx[3333:6666]] = 1\n",
    "s_test[test_idx[6666:]] = 2"
   ]
  },
  {
   "cell_type": "code",
   "execution_count": 34,
   "metadata": {
    "tags": []
   },
   "outputs": [
    {
     "data": {
      "image/png": "[encoded data removed]",
      "text/plain": [
       "<Figure size 432x288 with 1 Axes>"
      ]
     },
     "metadata": {
      "needs_background": "light"
     },
     "output_type": "display_data"
    }
   ],
   "source": [
    "plt.imshow(x_train[3])\n",
    "plt.show()"
   ]
  },
  {
   "cell_type": "code",
   "execution_count": 7,
   "metadata": {},
   "outputs": [],
   "source": [
    "save_path = \"./Colored_MNIST\"\n",
    "#unbalanced\n",
    "np.savez(f\"{save_path}/colored_mnist_unbalanced.npz\", x_train=x_train, y_train=Y_train, s_train=s_train, x_test=x_test, y_test=Y_test, s_test=s_test)"
   ]
  },
  {
   "cell_type": "code",
   "execution_count": 4,
   "metadata": {
    "tags": []
   },
   "outputs": [
    {
     "name": "stdout",
     "output_type": "stream",
     "text": [
      "(60000, 28, 28, 3)\n"
     ]
    }
   ],
   "source": [
    "save_path = \"./Colored_MNIST\"\n",
    "data = np.load(f\"{save_path}/colored_mnist_unbalanced.npz\")\n",
    "print(data['x_train'].shape)"
   ]
  },
  {
   "cell_type": "code",
   "execution_count": 33,
   "metadata": {},
   "outputs": [
    {
     "data": {
      "text/plain": [
       "array([2, 2, 2, 0, 1, 1, 0, 0, 1, 0], dtype=uint8)"
      ]
     },
     "execution_count": 33,
     "metadata": {},
     "output_type": "execute_result"
    }
   ],
   "source": [
    "s_train[:10]"
   ]
  },
  {
   "cell_type": "code",
   "execution_count": null,
   "metadata": {},
   "outputs": [],
   "source": []
  }
 ],
 "metadata": {
  "kernelspec": {
   "display_name": "tensorflow-23",
   "language": "python",
   "name": "tensorflow-23"
  },
  "language_info": {
   "codemirror_mode": {
    "name": "ipython",
    "version": 3
   },
   "file_extension": ".py",
   "mimetype": "text/x-python",
   "name": "python",
   "nbconvert_exporter": "python",
   "pygments_lexer": "ipython3",
   "version": "3.8.5"
  }
 },
 "nbformat": 4,
 "nbformat_minor": 2
}